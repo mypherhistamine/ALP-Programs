{
  "nbformat": 4,
  "nbformat_minor": 0,
  "metadata": {
    "colab": {
      "name": "Prestige.ipynb",
      "provenance": [],
      "include_colab_link": true
    },
    "kernelspec": {
      "name": "python3",
      "display_name": "Python 3"
    },
    "language_info": {
      "name": "python"
    }
  },
  "cells": [
    {
      "cell_type": "markdown",
      "metadata": {
        "id": "view-in-github",
        "colab_type": "text"
      },
      "source": [
        "<a href=\"https://colab.research.google.com/github/mypherhistamine/ALP-Programs/blob/main/Prestige.ipynb\" target=\"_parent\"><img src=\"https://colab.research.google.com/assets/colab-badge.svg\" alt=\"Open In Colab\"/></a>"
      ]
    },
    {
      "cell_type": "code",
      "execution_count": 1,
      "metadata": {
        "id": "OL36Oz6UjaCk"
      },
      "outputs": [],
      "source": [
        "graph=[[],[2,4,3],[4,5],[6],[3,6,7],[4,7],[],[6]]\n",
        "indegree=[0,0,0,0,0,0,0,0]\n",
        "#calcualting the indegree for each node\n",
        "for outbounds in graph:\n",
        "  for node in outbounds:\n",
        "    indegree[node]+=1\n",
        "n=7 #total nodes\n",
        "degreeCentrality={}"
      ]
    },
    {
      "cell_type": "code",
      "source": [
        "def degreeCentralitySingleNode(node):\n",
        "  numberOfConnections=len(graph[node])\n",
        "  return (numberOfConnections/(n-1))"
      ],
      "metadata": {
        "id": "Mmbbl-a44kzI"
      },
      "execution_count": null,
      "outputs": []
    },
    {
      "cell_type": "code",
      "source": [
        "for i in range(1,8):\n",
        "  degreeCentrality[i]=degreeCentralitySingleNode(i)\n",
        "print(degreeCentrality)"
      ],
      "metadata": {
        "colab": {
          "base_uri": "https://localhost:8080/"
        },
        "id": "DiL-VeBp4tsY",
        "outputId": "3eac6efb-3c39-4158-ad5e-9e223cef2f8d"
      },
      "execution_count": null,
      "outputs": [
        {
          "output_type": "stream",
          "name": "stdout",
          "text": [
            "{1: 0.5, 2: 0.3333333333333333, 3: 0.16666666666666666, 4: 0.5, 5: 0.3333333333333333, 6: 0.0, 7: 0.16666666666666666}\n"
          ]
        }
      ]
    },
    {
      "cell_type": "code",
      "source": [
        "def degreePresitge(node):\n",
        "  inBoundLinks=indegree[node]\n",
        "  return (inBoundLinks/(n-1))"
      ],
      "metadata": {
        "id": "F4jag-yIpSZD"
      },
      "execution_count": null,
      "outputs": []
    },
    {
      "cell_type": "code",
      "source": [
        "degreePrestigeOfEachNode=[]\n",
        "for i in range(1,8):\n",
        "  degreePrestigeOfEachNode.append(degreePresitge(i))\n",
        "print(degreePrestigeOfEachNode)"
      ],
      "metadata": {
        "id": "Gu2BqktXplN_",
        "colab": {
          "base_uri": "https://localhost:8080/"
        },
        "outputId": "22e15d3c-b927-4893-f245-c99f60fb89c6"
      },
      "execution_count": null,
      "outputs": [
        {
          "output_type": "stream",
          "name": "stdout",
          "text": [
            "[0.0, 0.16666666666666666, 0.3333333333333333, 0.5, 0.16666666666666666, 0.5, 0.3333333333333333]\n"
          ]
        }
      ]
    },
    {
      "cell_type": "code",
      "source": [
        "def shortestDistanceFromAToAllNodes(a):\n",
        "  que=[]\n",
        "  que.append(a)\n",
        "  distances=[0,0,0,0,0,0,0,0]\n",
        "  visited=[False,False,False,False,False,False,False,False]\n",
        "  level=0\n",
        "  while(len(que)!=0):\n",
        "    size=len(que);\n",
        "    while(size>0):\n",
        "      size-=1\n",
        "      vrtx=que.pop(0)\n",
        "      if(visited[vrtx]):\n",
        "        continue\n",
        "      # print(vrtx)\n",
        "      visited[vrtx]=True\n",
        "      distances[vrtx]=level\n",
        "      for child in graph[vrtx]:\n",
        "        if(visited[child]==False):\n",
        "          que.append(child)\n",
        "    level+=1\n",
        "  \n",
        "  return distances\n",
        "\n",
        "      \n"
      ],
      "metadata": {
        "id": "W3pLRlUrujnv"
      },
      "execution_count": null,
      "outputs": []
    },
    {
      "cell_type": "code",
      "source": [
        ""
      ],
      "metadata": {
        "id": "900ZI9-b58Tr"
      },
      "execution_count": null,
      "outputs": []
    },
    {
      "cell_type": "code",
      "source": [
        "nodesThatCanReach=[0,0,0,0,0,0,0,0]\n",
        "shortestDistance={}\n",
        "for i in range(1,8):\n",
        "  shortestDistance[i]=shortestDistanceFromAToAllNodes(i)\n",
        "  for j in range(0,len(shortestDistance[i])):\n",
        "    if(shortestDistance[i][j]>0):\n",
        "      nodesThatCanReach[j]+=1\n",
        "\n",
        "\n",
        "\n"
      ],
      "metadata": {
        "id": "N3fz06h11l23"
      },
      "execution_count": null,
      "outputs": []
    },
    {
      "cell_type": "code",
      "source": [
        "def closenessCentrality(node):\n",
        "  arr=shortestDistance[node]\n",
        "  dist=0;\n",
        "  for d in arr:\n",
        "    dist+=d\n",
        "  if(dist==0):\n",
        "    return 0\n",
        "  return ((n-1)/(dist))"
      ],
      "metadata": {
        "id": "I7QFCahR5_Ke"
      },
      "execution_count": null,
      "outputs": []
    },
    {
      "cell_type": "code",
      "source": [
        "closenessCentralityAll={}\n",
        "for i in range(1,8):\n",
        "  closenessCentralityAll[i]=closenessCentrality(i)\n",
        "print(closenessCentralityAll)"
      ],
      "metadata": {
        "colab": {
          "base_uri": "https://localhost:8080/"
        },
        "id": "p2x0yccJ6VwF",
        "outputId": "453da8dc-df2b-4f0d-f001-8e9720e5f7e6"
      },
      "execution_count": null,
      "outputs": [
        {
          "output_type": "stream",
          "name": "stdout",
          "text": [
            "{1: 0.6666666666666666, 2: 0.75, 3: 6.0, 4: 2.0, 5: 1.0, 6: 0, 7: 6.0}\n"
          ]
        }
      ]
    },
    {
      "cell_type": "code",
      "source": [
        "\n",
        "def proximityPrestige(val,node):\n",
        "  \n",
        "  dij=val\n",
        "  I=nodesThatCanReach[node]\n",
        "  \n",
        "  \n",
        "  \n",
        "  if(dij==0 or I==0):\n",
        "    return 0\n",
        "\n",
        "  return (I/(n-1))/(dij/I)\n",
        "\n",
        "  \n"
      ],
      "metadata": {
        "id": "tyIVBTPVwhSR"
      },
      "execution_count": null,
      "outputs": []
    },
    {
      "cell_type": "code",
      "source": [
        "proximityPrestigieAns={}\n",
        "sDistances={}\n",
        "values=[0,0,0,0,0,0,0,0,0]\n",
        "for i in range(1,8):\n",
        "  sDistances[i]=shortestDistanceFromAToAllNodes(i)\n",
        "\n",
        "for pp in sDistances:\n",
        "  for j in range(len(sDistances[pp])):\n",
        "    values[j]+=sDistances[pp][j]\n",
        "\n",
        "\n",
        "for i in range(1,8):\n",
        "  proximityPrestigieAns[i]=proximityPrestige(values[i],i)\n",
        "print(proximityPrestigieAns)"
      ],
      "metadata": {
        "colab": {
          "base_uri": "https://localhost:8080/"
        },
        "id": "VP3LGH6DyV3I",
        "outputId": "64d99bd4-8613-4cc3-9529-62c75d04f7f0"
      },
      "execution_count": null,
      "outputs": [
        {
          "output_type": "stream",
          "name": "stdout",
          "text": [
            "{1: 0, 2: 0.16666666666666666, 3: 0.4444444444444444, 4: 0.5, 5: 0.2222222222222222, 6: 0.6666666666666666, 7: 0.4444444444444444}\n"
          ]
        }
      ]
    }
  ]
}